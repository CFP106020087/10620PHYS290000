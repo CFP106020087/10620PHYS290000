{
 "cells": [
  {
   "cell_type": "code",
   "execution_count": 5,
   "metadata": {},
   "outputs": [],
   "source": [
    "import numpy as np\n",
    "from math import sin,cos,pi\n",
    "import matplotlib.pyplot as plt\n"
   ]
  },
  {
   "cell_type": "code",
   "execution_count": 4,
   "metadata": {
    "scrolled": true
   },
   "outputs": [
    {
     "name": "stdout",
     "output_type": "stream",
     "text": [
      "[0.60466596 0.15902119]\n",
      "0.6046659566888327 0.15902118822556266\n",
      "theta:20\n",
      "vel:20\n",
      "15.864154488115886\n",
      "0.703764656484838\n",
      "you win\n"
     ]
    },
    {
     "data": {
      "image/png": "[encoded data removed]",
      "text/plain": [
       "<Figure size 432x288 with 1 Axes>"
      ]
     },
     "metadata": {
      "needs_background": "light"
     },
     "output_type": "display_data"
    }
   ],
   "source": [
    "p=np.random.random(2)\n",
    "print(p)\n",
    "print(p[0],p[1])\n",
    "\n",
    "theta=float(input('theta:'))/180*pi\n",
    "v=float(input('vel:'))\n",
    "vx=cos(theta)*v\n",
    "vy=sin(theta)*v\n",
    "t=np.linspace(0,2*vy/9.8,1000)\n",
    "x=vx*t\n",
    "y=vy*t-(1/2)*9.8*t**2\n",
    "a=p[0]*2*vy*vx/9.8\n",
    "b=p[1]*(vy/9.8*vy-1/2*9.8*vy/9.8**2)\n",
    "plt.plot(x,y)\n",
    "\n",
    "plt.plot(a,b,'.')\n",
    "\n",
    "print(a)\n",
    "print(b)\n",
    "if min(((x-a)**2+(y-b)**2))< 9:\n",
    "    print(\"you win\")\n",
    "else:\n",
    "    print('try again')\n",
    "    \n",
    "    "
   ]
  },
  {
   "cell_type": "code",
   "execution_count": 6,
   "metadata": {},
   "outputs": [
    {
     "ename": "TypeError",
     "evalue": "'builtin_function_or_method' object is not subscriptable",
     "output_type": "error",
     "traceback": [
      "\u001b[0;31m---------------------------------------------------------------------------\u001b[0m",
      "\u001b[0;31mTypeError\u001b[0m                                 Traceback (most recent call last)",
      "\u001b[0;32m<ipython-input-6-eacc9bd6fc33>\u001b[0m in \u001b[0;36m<module>\u001b[0;34m\u001b[0m\n\u001b[0;32m----> 1\u001b[0;31m \u001b[0mnp\u001b[0m\u001b[0;34m.\u001b[0m\u001b[0marray\u001b[0m\u001b[0;34m[\u001b[0m\u001b[0;36m1\u001b[0m\u001b[0;34m]\u001b[0m\u001b[0;34m\u001b[0m\u001b[0;34m\u001b[0m\u001b[0m\n\u001b[0m",
      "\u001b[0;31mTypeError\u001b[0m: 'builtin_function_or_method' object is not subscriptable"
     ]
    }
   ],
   "source": []
  },
  {
   "cell_type": "code",
   "execution_count": null,
   "metadata": {},
   "outputs": [],
   "source": []
  }
 ],
 "metadata": {
  "kernelspec": {
   "display_name": "Python 3",
   "language": "python",
   "name": "python3"
  },
  "language_info": {
   "codemirror_mode": {
    "name": "ipython",
    "version": 3
   },
   "file_extension": ".py",
   "mimetype": "text/x-python",
   "name": "python",
   "nbconvert_exporter": "python",
   "pygments_lexer": "ipython3",
   "version": "3.7.1"
  }
 },
 "nbformat": 4,
 "nbformat_minor": 2
}
